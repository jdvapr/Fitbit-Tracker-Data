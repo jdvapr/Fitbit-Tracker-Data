{
 "cells": [
  {
   "cell_type": "markdown",
   "id": "630447e5",
   "metadata": {
    "papermill": {
     "duration": 0.005581,
     "end_time": "2025-06-23T06:55:57.405939",
     "exception": false,
     "start_time": "2025-06-23T06:55:57.400358",
     "status": "completed"
    },
    "tags": []
   },
   "source": [
    "# Bellabeat Project: Smart Device Usage Analysis\n",
    "\n",
    "## Business Task\n",
    "Analyze FitBit smart device data to identify usage trends and provide marketing recommedations for Bellabeat's Leaf tracker to enhance its market strategy\n",
    "\n",
    "## Key Questions\n",
    "* What are the most common usage patterns vary overtime?\n",
    "* How do activily and sleep patters vary over time?\n",
    "* Are there distinct user segements based on activity levels?\n",
    "\n",
    "## Stakeholders\n",
    "* Urška Sršen (Chief Creative Officer)\n",
    "* Sando Mur (Cofounder)\n",
    "* Bellabeat Marketing Analytics Team"
   ]
  },
  {
   "cell_type": "markdown",
   "id": "abaae950",
   "metadata": {
    "papermill": {
     "duration": 0.004529,
     "end_time": "2025-06-23T06:55:57.415322",
     "exception": false,
     "start_time": "2025-06-23T06:55:57.410793",
     "status": "completed"
    },
    "tags": []
   },
   "source": [
    "## Explore the Dataset\n",
    "#### Load and inspect data"
   ]
  },
  {
   "cell_type": "code",
   "execution_count": 2,
   "id": "299c05be-0846-41ed-9038-5dc47d06e209",
   "metadata": {},
   "outputs": [
    {
     "name": "stdout",
     "output_type": "stream",
     "text": [
      "/Users/johnathanduran/Library/jupyterlab-desktop/jlab_server/bin/python\n"
     ]
    }
   ],
   "source": [
    "import sys\n",
    "print(sys.executable)"
   ]
  },
  {
   "cell_type": "code",
   "execution_count": 3,
   "id": "5f37ae87",
   "metadata": {
    "papermill": {
     "duration": 3.722281,
     "end_time": "2025-06-23T06:56:01.142033",
     "exception": false,
     "start_time": "2025-06-23T06:55:57.419752",
     "status": "completed"
    },
    "tags": []
   },
   "outputs": [],
   "source": [
    "import pandas as pd\n",
    "import matplotlib.pyplot as plt\n",
    "import seaborn as sns"
   ]
  },
  {
   "cell_type": "code",
   "execution_count": 4,
   "id": "9eb6ae7f",
   "metadata": {
    "papermill": {
     "duration": 0.214257,
     "end_time": "2025-06-23T06:56:01.361178",
     "exception": false,
     "start_time": "2025-06-23T06:56:01.146921",
     "status": "completed"
    },
    "tags": []
   },
   "outputs": [
    {
     "ename": "FileNotFoundError",
     "evalue": "[Errno 2] No such file or directory: '/kaggle/input/fitbit/mturkfitbit_export_4.12.16-5.12.16/Fitabase Data 4.12.16-5.12.16/dailyActivity_merged.csv'",
     "output_type": "error",
     "traceback": [
      "\u001b[0;31m---------------------------------------------------------------------------\u001b[0m",
      "\u001b[0;31mFileNotFoundError\u001b[0m                         Traceback (most recent call last)",
      "Cell \u001b[0;32mIn[4], line 2\u001b[0m\n\u001b[1;32m      1\u001b[0m \u001b[38;5;66;03m# Load datasets\u001b[39;00m\n\u001b[0;32m----> 2\u001b[0m daily_activity \u001b[38;5;241m=\u001b[39m \u001b[43mpd\u001b[49m\u001b[38;5;241;43m.\u001b[39;49m\u001b[43mread_csv\u001b[49m\u001b[43m(\u001b[49m\u001b[38;5;124;43m\"\u001b[39;49m\u001b[38;5;124;43m/kaggle/input/fitbit/mturkfitbit_export_4.12.16-5.12.16/Fitabase Data 4.12.16-5.12.16/dailyActivity_merged.csv\u001b[39;49m\u001b[38;5;124;43m\"\u001b[39;49m\u001b[43m)\u001b[49m\n\u001b[1;32m      3\u001b[0m sleep_data \u001b[38;5;241m=\u001b[39m pd\u001b[38;5;241m.\u001b[39mread_csv(\u001b[38;5;124m\"\u001b[39m\u001b[38;5;124m/kaggle/input/fitbit/mturkfitbit_export_4.12.16-5.12.16/Fitabase Data 4.12.16-5.12.16/sleepDay_merged.csv\u001b[39m\u001b[38;5;124m\"\u001b[39m)\n\u001b[1;32m      5\u001b[0m daily_activity\u001b[38;5;241m.\u001b[39mcolumns \u001b[38;5;241m=\u001b[39m daily_activity\u001b[38;5;241m.\u001b[39mcolumns\u001b[38;5;241m.\u001b[39mstr\u001b[38;5;241m.\u001b[39mstrip()\u001b[38;5;241m.\u001b[39mstr\u001b[38;5;241m.\u001b[39mreplace(\u001b[38;5;124m\"\u001b[39m\u001b[38;5;124m \u001b[39m\u001b[38;5;124m\"\u001b[39m, \u001b[38;5;124m\"\u001b[39m\u001b[38;5;124m_\u001b[39m\u001b[38;5;124m\"\u001b[39m)\n",
      "File \u001b[0;32m~/Library/jupyterlab-desktop/jlab_server/lib/python3.12/site-packages/pandas/io/parsers/readers.py:1026\u001b[0m, in \u001b[0;36mread_csv\u001b[0;34m(filepath_or_buffer, sep, delimiter, header, names, index_col, usecols, dtype, engine, converters, true_values, false_values, skipinitialspace, skiprows, skipfooter, nrows, na_values, keep_default_na, na_filter, verbose, skip_blank_lines, parse_dates, infer_datetime_format, keep_date_col, date_parser, date_format, dayfirst, cache_dates, iterator, chunksize, compression, thousands, decimal, lineterminator, quotechar, quoting, doublequote, escapechar, comment, encoding, encoding_errors, dialect, on_bad_lines, delim_whitespace, low_memory, memory_map, float_precision, storage_options, dtype_backend)\u001b[0m\n\u001b[1;32m   1013\u001b[0m kwds_defaults \u001b[38;5;241m=\u001b[39m _refine_defaults_read(\n\u001b[1;32m   1014\u001b[0m     dialect,\n\u001b[1;32m   1015\u001b[0m     delimiter,\n\u001b[0;32m   (...)\u001b[0m\n\u001b[1;32m   1022\u001b[0m     dtype_backend\u001b[38;5;241m=\u001b[39mdtype_backend,\n\u001b[1;32m   1023\u001b[0m )\n\u001b[1;32m   1024\u001b[0m kwds\u001b[38;5;241m.\u001b[39mupdate(kwds_defaults)\n\u001b[0;32m-> 1026\u001b[0m \u001b[38;5;28;01mreturn\u001b[39;00m \u001b[43m_read\u001b[49m\u001b[43m(\u001b[49m\u001b[43mfilepath_or_buffer\u001b[49m\u001b[43m,\u001b[49m\u001b[43m \u001b[49m\u001b[43mkwds\u001b[49m\u001b[43m)\u001b[49m\n",
      "File \u001b[0;32m~/Library/jupyterlab-desktop/jlab_server/lib/python3.12/site-packages/pandas/io/parsers/readers.py:620\u001b[0m, in \u001b[0;36m_read\u001b[0;34m(filepath_or_buffer, kwds)\u001b[0m\n\u001b[1;32m    617\u001b[0m _validate_names(kwds\u001b[38;5;241m.\u001b[39mget(\u001b[38;5;124m\"\u001b[39m\u001b[38;5;124mnames\u001b[39m\u001b[38;5;124m\"\u001b[39m, \u001b[38;5;28;01mNone\u001b[39;00m))\n\u001b[1;32m    619\u001b[0m \u001b[38;5;66;03m# Create the parser.\u001b[39;00m\n\u001b[0;32m--> 620\u001b[0m parser \u001b[38;5;241m=\u001b[39m \u001b[43mTextFileReader\u001b[49m\u001b[43m(\u001b[49m\u001b[43mfilepath_or_buffer\u001b[49m\u001b[43m,\u001b[49m\u001b[43m \u001b[49m\u001b[38;5;241;43m*\u001b[39;49m\u001b[38;5;241;43m*\u001b[39;49m\u001b[43mkwds\u001b[49m\u001b[43m)\u001b[49m\n\u001b[1;32m    622\u001b[0m \u001b[38;5;28;01mif\u001b[39;00m chunksize \u001b[38;5;129;01mor\u001b[39;00m iterator:\n\u001b[1;32m    623\u001b[0m     \u001b[38;5;28;01mreturn\u001b[39;00m parser\n",
      "File \u001b[0;32m~/Library/jupyterlab-desktop/jlab_server/lib/python3.12/site-packages/pandas/io/parsers/readers.py:1620\u001b[0m, in \u001b[0;36mTextFileReader.__init__\u001b[0;34m(self, f, engine, **kwds)\u001b[0m\n\u001b[1;32m   1617\u001b[0m     \u001b[38;5;28mself\u001b[39m\u001b[38;5;241m.\u001b[39moptions[\u001b[38;5;124m\"\u001b[39m\u001b[38;5;124mhas_index_names\u001b[39m\u001b[38;5;124m\"\u001b[39m] \u001b[38;5;241m=\u001b[39m kwds[\u001b[38;5;124m\"\u001b[39m\u001b[38;5;124mhas_index_names\u001b[39m\u001b[38;5;124m\"\u001b[39m]\n\u001b[1;32m   1619\u001b[0m \u001b[38;5;28mself\u001b[39m\u001b[38;5;241m.\u001b[39mhandles: IOHandles \u001b[38;5;241m|\u001b[39m \u001b[38;5;28;01mNone\u001b[39;00m \u001b[38;5;241m=\u001b[39m \u001b[38;5;28;01mNone\u001b[39;00m\n\u001b[0;32m-> 1620\u001b[0m \u001b[38;5;28mself\u001b[39m\u001b[38;5;241m.\u001b[39m_engine \u001b[38;5;241m=\u001b[39m \u001b[38;5;28;43mself\u001b[39;49m\u001b[38;5;241;43m.\u001b[39;49m\u001b[43m_make_engine\u001b[49m\u001b[43m(\u001b[49m\u001b[43mf\u001b[49m\u001b[43m,\u001b[49m\u001b[43m \u001b[49m\u001b[38;5;28;43mself\u001b[39;49m\u001b[38;5;241;43m.\u001b[39;49m\u001b[43mengine\u001b[49m\u001b[43m)\u001b[49m\n",
      "File \u001b[0;32m~/Library/jupyterlab-desktop/jlab_server/lib/python3.12/site-packages/pandas/io/parsers/readers.py:1880\u001b[0m, in \u001b[0;36mTextFileReader._make_engine\u001b[0;34m(self, f, engine)\u001b[0m\n\u001b[1;32m   1878\u001b[0m     \u001b[38;5;28;01mif\u001b[39;00m \u001b[38;5;124m\"\u001b[39m\u001b[38;5;124mb\u001b[39m\u001b[38;5;124m\"\u001b[39m \u001b[38;5;129;01mnot\u001b[39;00m \u001b[38;5;129;01min\u001b[39;00m mode:\n\u001b[1;32m   1879\u001b[0m         mode \u001b[38;5;241m+\u001b[39m\u001b[38;5;241m=\u001b[39m \u001b[38;5;124m\"\u001b[39m\u001b[38;5;124mb\u001b[39m\u001b[38;5;124m\"\u001b[39m\n\u001b[0;32m-> 1880\u001b[0m \u001b[38;5;28mself\u001b[39m\u001b[38;5;241m.\u001b[39mhandles \u001b[38;5;241m=\u001b[39m \u001b[43mget_handle\u001b[49m\u001b[43m(\u001b[49m\n\u001b[1;32m   1881\u001b[0m \u001b[43m    \u001b[49m\u001b[43mf\u001b[49m\u001b[43m,\u001b[49m\n\u001b[1;32m   1882\u001b[0m \u001b[43m    \u001b[49m\u001b[43mmode\u001b[49m\u001b[43m,\u001b[49m\n\u001b[1;32m   1883\u001b[0m \u001b[43m    \u001b[49m\u001b[43mencoding\u001b[49m\u001b[38;5;241;43m=\u001b[39;49m\u001b[38;5;28;43mself\u001b[39;49m\u001b[38;5;241;43m.\u001b[39;49m\u001b[43moptions\u001b[49m\u001b[38;5;241;43m.\u001b[39;49m\u001b[43mget\u001b[49m\u001b[43m(\u001b[49m\u001b[38;5;124;43m\"\u001b[39;49m\u001b[38;5;124;43mencoding\u001b[39;49m\u001b[38;5;124;43m\"\u001b[39;49m\u001b[43m,\u001b[49m\u001b[43m \u001b[49m\u001b[38;5;28;43;01mNone\u001b[39;49;00m\u001b[43m)\u001b[49m\u001b[43m,\u001b[49m\n\u001b[1;32m   1884\u001b[0m \u001b[43m    \u001b[49m\u001b[43mcompression\u001b[49m\u001b[38;5;241;43m=\u001b[39;49m\u001b[38;5;28;43mself\u001b[39;49m\u001b[38;5;241;43m.\u001b[39;49m\u001b[43moptions\u001b[49m\u001b[38;5;241;43m.\u001b[39;49m\u001b[43mget\u001b[49m\u001b[43m(\u001b[49m\u001b[38;5;124;43m\"\u001b[39;49m\u001b[38;5;124;43mcompression\u001b[39;49m\u001b[38;5;124;43m\"\u001b[39;49m\u001b[43m,\u001b[49m\u001b[43m \u001b[49m\u001b[38;5;28;43;01mNone\u001b[39;49;00m\u001b[43m)\u001b[49m\u001b[43m,\u001b[49m\n\u001b[1;32m   1885\u001b[0m \u001b[43m    \u001b[49m\u001b[43mmemory_map\u001b[49m\u001b[38;5;241;43m=\u001b[39;49m\u001b[38;5;28;43mself\u001b[39;49m\u001b[38;5;241;43m.\u001b[39;49m\u001b[43moptions\u001b[49m\u001b[38;5;241;43m.\u001b[39;49m\u001b[43mget\u001b[49m\u001b[43m(\u001b[49m\u001b[38;5;124;43m\"\u001b[39;49m\u001b[38;5;124;43mmemory_map\u001b[39;49m\u001b[38;5;124;43m\"\u001b[39;49m\u001b[43m,\u001b[49m\u001b[43m \u001b[49m\u001b[38;5;28;43;01mFalse\u001b[39;49;00m\u001b[43m)\u001b[49m\u001b[43m,\u001b[49m\n\u001b[1;32m   1886\u001b[0m \u001b[43m    \u001b[49m\u001b[43mis_text\u001b[49m\u001b[38;5;241;43m=\u001b[39;49m\u001b[43mis_text\u001b[49m\u001b[43m,\u001b[49m\n\u001b[1;32m   1887\u001b[0m \u001b[43m    \u001b[49m\u001b[43merrors\u001b[49m\u001b[38;5;241;43m=\u001b[39;49m\u001b[38;5;28;43mself\u001b[39;49m\u001b[38;5;241;43m.\u001b[39;49m\u001b[43moptions\u001b[49m\u001b[38;5;241;43m.\u001b[39;49m\u001b[43mget\u001b[49m\u001b[43m(\u001b[49m\u001b[38;5;124;43m\"\u001b[39;49m\u001b[38;5;124;43mencoding_errors\u001b[39;49m\u001b[38;5;124;43m\"\u001b[39;49m\u001b[43m,\u001b[49m\u001b[43m \u001b[49m\u001b[38;5;124;43m\"\u001b[39;49m\u001b[38;5;124;43mstrict\u001b[39;49m\u001b[38;5;124;43m\"\u001b[39;49m\u001b[43m)\u001b[49m\u001b[43m,\u001b[49m\n\u001b[1;32m   1888\u001b[0m \u001b[43m    \u001b[49m\u001b[43mstorage_options\u001b[49m\u001b[38;5;241;43m=\u001b[39;49m\u001b[38;5;28;43mself\u001b[39;49m\u001b[38;5;241;43m.\u001b[39;49m\u001b[43moptions\u001b[49m\u001b[38;5;241;43m.\u001b[39;49m\u001b[43mget\u001b[49m\u001b[43m(\u001b[49m\u001b[38;5;124;43m\"\u001b[39;49m\u001b[38;5;124;43mstorage_options\u001b[39;49m\u001b[38;5;124;43m\"\u001b[39;49m\u001b[43m,\u001b[49m\u001b[43m \u001b[49m\u001b[38;5;28;43;01mNone\u001b[39;49;00m\u001b[43m)\u001b[49m\u001b[43m,\u001b[49m\n\u001b[1;32m   1889\u001b[0m \u001b[43m\u001b[49m\u001b[43m)\u001b[49m\n\u001b[1;32m   1890\u001b[0m \u001b[38;5;28;01massert\u001b[39;00m \u001b[38;5;28mself\u001b[39m\u001b[38;5;241m.\u001b[39mhandles \u001b[38;5;129;01mis\u001b[39;00m \u001b[38;5;129;01mnot\u001b[39;00m \u001b[38;5;28;01mNone\u001b[39;00m\n\u001b[1;32m   1891\u001b[0m f \u001b[38;5;241m=\u001b[39m \u001b[38;5;28mself\u001b[39m\u001b[38;5;241m.\u001b[39mhandles\u001b[38;5;241m.\u001b[39mhandle\n",
      "File \u001b[0;32m~/Library/jupyterlab-desktop/jlab_server/lib/python3.12/site-packages/pandas/io/common.py:873\u001b[0m, in \u001b[0;36mget_handle\u001b[0;34m(path_or_buf, mode, encoding, compression, memory_map, is_text, errors, storage_options)\u001b[0m\n\u001b[1;32m    868\u001b[0m \u001b[38;5;28;01melif\u001b[39;00m \u001b[38;5;28misinstance\u001b[39m(handle, \u001b[38;5;28mstr\u001b[39m):\n\u001b[1;32m    869\u001b[0m     \u001b[38;5;66;03m# Check whether the filename is to be opened in binary mode.\u001b[39;00m\n\u001b[1;32m    870\u001b[0m     \u001b[38;5;66;03m# Binary mode does not support 'encoding' and 'newline'.\u001b[39;00m\n\u001b[1;32m    871\u001b[0m     \u001b[38;5;28;01mif\u001b[39;00m ioargs\u001b[38;5;241m.\u001b[39mencoding \u001b[38;5;129;01mand\u001b[39;00m \u001b[38;5;124m\"\u001b[39m\u001b[38;5;124mb\u001b[39m\u001b[38;5;124m\"\u001b[39m \u001b[38;5;129;01mnot\u001b[39;00m \u001b[38;5;129;01min\u001b[39;00m ioargs\u001b[38;5;241m.\u001b[39mmode:\n\u001b[1;32m    872\u001b[0m         \u001b[38;5;66;03m# Encoding\u001b[39;00m\n\u001b[0;32m--> 873\u001b[0m         handle \u001b[38;5;241m=\u001b[39m \u001b[38;5;28;43mopen\u001b[39;49m\u001b[43m(\u001b[49m\n\u001b[1;32m    874\u001b[0m \u001b[43m            \u001b[49m\u001b[43mhandle\u001b[49m\u001b[43m,\u001b[49m\n\u001b[1;32m    875\u001b[0m \u001b[43m            \u001b[49m\u001b[43mioargs\u001b[49m\u001b[38;5;241;43m.\u001b[39;49m\u001b[43mmode\u001b[49m\u001b[43m,\u001b[49m\n\u001b[1;32m    876\u001b[0m \u001b[43m            \u001b[49m\u001b[43mencoding\u001b[49m\u001b[38;5;241;43m=\u001b[39;49m\u001b[43mioargs\u001b[49m\u001b[38;5;241;43m.\u001b[39;49m\u001b[43mencoding\u001b[49m\u001b[43m,\u001b[49m\n\u001b[1;32m    877\u001b[0m \u001b[43m            \u001b[49m\u001b[43merrors\u001b[49m\u001b[38;5;241;43m=\u001b[39;49m\u001b[43merrors\u001b[49m\u001b[43m,\u001b[49m\n\u001b[1;32m    878\u001b[0m \u001b[43m            \u001b[49m\u001b[43mnewline\u001b[49m\u001b[38;5;241;43m=\u001b[39;49m\u001b[38;5;124;43m\"\u001b[39;49m\u001b[38;5;124;43m\"\u001b[39;49m\u001b[43m,\u001b[49m\n\u001b[1;32m    879\u001b[0m \u001b[43m        \u001b[49m\u001b[43m)\u001b[49m\n\u001b[1;32m    880\u001b[0m     \u001b[38;5;28;01melse\u001b[39;00m:\n\u001b[1;32m    881\u001b[0m         \u001b[38;5;66;03m# Binary mode\u001b[39;00m\n\u001b[1;32m    882\u001b[0m         handle \u001b[38;5;241m=\u001b[39m \u001b[38;5;28mopen\u001b[39m(handle, ioargs\u001b[38;5;241m.\u001b[39mmode)\n",
      "\u001b[0;31mFileNotFoundError\u001b[0m: [Errno 2] No such file or directory: '/kaggle/input/fitbit/mturkfitbit_export_4.12.16-5.12.16/Fitabase Data 4.12.16-5.12.16/dailyActivity_merged.csv'"
     ]
    }
   ],
   "source": [
    "# Load datasets\n",
    "daily_activity = pd.read_csv(\"/kaggle/input/fitbit/mturkfitbit_export_4.12.16-5.12.16/Fitabase Data 4.12.16-5.12.16/dailyActivity_merged.csv\")\n",
    "sleep_data = pd.read_csv(\"/kaggle/input/fitbit/mturkfitbit_export_4.12.16-5.12.16/Fitabase Data 4.12.16-5.12.16/sleepDay_merged.csv\")\n",
    "\n",
    "daily_activity.columns = daily_activity.columns.str.strip().str.replace(\" \", \"_\")\n",
    "sleep_data.columns = sleep_data.columns.str.strip().str.replace(\" \", \"_\")\n",
    "\n",
    "# Inspect data, first 10 rows of Daily Activity\n",
    "daily_activity.head(10).style.set_caption(\"Daily Activity\").format({\"TotalSteps\": \"{:,.0f}\", \"Calories\": \"{:,.0f}\"})"
   ]
  },
  {
   "cell_type": "code",
   "execution_count": null,
   "id": "955669b4",
   "metadata": {
    "papermill": {
     "duration": 0.015569,
     "end_time": "2025-06-23T06:56:01.382071",
     "exception": false,
     "start_time": "2025-06-23T06:56:01.366502",
     "status": "completed"
    },
    "tags": []
   },
   "outputs": [],
   "source": [
    "# Inspect data, first 10 rows of Sleep Data\n",
    "sleep_data.head(10).style.set_caption(\"Sleep Data\").format({\"TotalTimeInBed\": \"{:,.0f} mins\", \"TotalMinutesAsleep\": \"{:.0f} mins\"})"
   ]
  },
  {
   "cell_type": "code",
   "execution_count": null,
   "id": "94ca23a0",
   "metadata": {
    "papermill": {
     "duration": 0.056674,
     "end_time": "2025-06-23T06:56:01.444302",
     "exception": false,
     "start_time": "2025-06-23T06:56:01.387628",
     "status": "completed"
    },
    "tags": []
   },
   "outputs": [],
   "source": [
    "# Summary statistics \n",
    "daily_activity.describe()"
   ]
  },
  {
   "cell_type": "code",
   "execution_count": null,
   "id": "b9507771",
   "metadata": {
    "papermill": {
     "duration": 0.023182,
     "end_time": "2025-06-23T06:56:01.473632",
     "exception": false,
     "start_time": "2025-06-23T06:56:01.450450",
     "status": "completed"
    },
    "tags": []
   },
   "outputs": [],
   "source": [
    "sleep_data.describe()"
   ]
  },
  {
   "cell_type": "code",
   "execution_count": null,
   "id": "7d6ca081",
   "metadata": {
    "papermill": {
     "duration": 0.023618,
     "end_time": "2025-06-23T06:56:01.503179",
     "exception": false,
     "start_time": "2025-06-23T06:56:01.479561",
     "status": "completed"
    },
    "tags": []
   },
   "outputs": [],
   "source": [
    "# Correct Data Types\n",
    "daily_activity['ActivityDate'] = pd.to_datetime(daily_activity['ActivityDate'])\n",
    "\n",
    "fmt = \"%m/%d/%Y %I:%M:%S %p\"\n",
    "sleep_data['SleepDay'] = pd.to_datetime(\n",
    "    sleep_data['SleepDay'],\n",
    "    format=fmt,             # tell pandas exactly what to expect\n",
    "    errors='coerce'         # turn any errors into NaT\n",
    ")"
   ]
  },
  {
   "cell_type": "code",
   "execution_count": null,
   "id": "e43d51fb",
   "metadata": {
    "papermill": {
     "duration": 0.021918,
     "end_time": "2025-06-23T06:56:01.531094",
     "exception": false,
     "start_time": "2025-06-23T06:56:01.509176",
     "status": "completed"
    },
    "tags": []
   },
   "outputs": [],
   "source": [
    "# Check corrected Data Type\n",
    "daily_activity.head()"
   ]
  },
  {
   "cell_type": "code",
   "execution_count": null,
   "id": "42e20234",
   "metadata": {
    "papermill": {
     "duration": 0.015954,
     "end_time": "2025-06-23T06:56:01.553878",
     "exception": false,
     "start_time": "2025-06-23T06:56:01.537924",
     "status": "completed"
    },
    "tags": []
   },
   "outputs": [],
   "source": [
    "sleep_data.head()"
   ]
  },
  {
   "cell_type": "code",
   "execution_count": null,
   "id": "949f7526",
   "metadata": {
    "papermill": {
     "duration": 0.015391,
     "end_time": "2025-06-23T06:56:01.575374",
     "exception": false,
     "start_time": "2025-06-23T06:56:01.559983",
     "status": "completed"
    },
    "tags": []
   },
   "outputs": [],
   "source": [
    "# Check for missing values\n",
    "print(\"Daily Activity\\n\",daily_activity.isnull().sum(),\"\\n\")\n",
    "print(\"Sleep Activity\\n\", sleep_data.isnull().sum(),\"\\n\")"
   ]
  },
  {
   "cell_type": "code",
   "execution_count": null,
   "id": "06cd58d8",
   "metadata": {
    "papermill": {
     "duration": 0.016891,
     "end_time": "2025-06-23T06:56:01.598522",
     "exception": false,
     "start_time": "2025-06-23T06:56:01.581631",
     "status": "completed"
    },
    "tags": []
   },
   "outputs": [],
   "source": [
    "# Check for duplicates\n",
    "print(daily_activity.duplicated().sum())"
   ]
  },
  {
   "cell_type": "code",
   "execution_count": null,
   "id": "3f95e7e3",
   "metadata": {
    "papermill": {
     "duration": 0.042712,
     "end_time": "2025-06-23T06:56:01.647740",
     "exception": false,
     "start_time": "2025-06-23T06:56:01.605028",
     "status": "completed"
    },
    "tags": []
   },
   "outputs": [],
   "source": [
    "# Merge datasets\n",
    "merged_data = pd.merge(\n",
    "    daily_activity,\n",
    "    sleep_data,\n",
    "    left_on=['Id', 'ActivityDate'],   # keys from daily_activity\n",
    "    right_on=['Id', 'SleepDay'],      # keys from sleep_data\n",
    "    how='left'                        # keep every activity record\n",
    ")\n",
    "\n",
    "merged_data.head(10)"
   ]
  },
  {
   "cell_type": "markdown",
   "id": "70b60af1",
   "metadata": {
    "papermill": {
     "duration": 0.006604,
     "end_time": "2025-06-23T06:56:01.661268",
     "exception": false,
     "start_time": "2025-06-23T06:56:01.654664",
     "status": "completed"
    },
    "tags": []
   },
   "source": [
    "## Clean Data\n",
    "#### Prepare the data for analysis by addressing inconsistencies"
   ]
  },
  {
   "cell_type": "code",
   "execution_count": null,
   "id": "3ef6901a",
   "metadata": {
    "papermill": {
     "duration": 0.055807,
     "end_time": "2025-06-23T06:56:01.723742",
     "exception": false,
     "start_time": "2025-06-23T06:56:01.667935",
     "status": "completed"
    },
    "tags": []
   },
   "outputs": [],
   "source": [
    "# Check for invalid values\n",
    "merged_data.describe()"
   ]
  },
  {
   "cell_type": "code",
   "execution_count": null,
   "id": "aa3ebe69",
   "metadata": {
    "papermill": {
     "duration": 0.016725,
     "end_time": "2025-06-23T06:56:01.748410",
     "exception": false,
     "start_time": "2025-06-23T06:56:01.731685",
     "status": "completed"
    },
    "tags": []
   },
   "outputs": [],
   "source": [
    "merged_data.isnull().sum()"
   ]
  },
  {
   "cell_type": "code",
   "execution_count": null,
   "id": "3e71978c",
   "metadata": {
    "papermill": {
     "duration": 0.026803,
     "end_time": "2025-06-23T06:56:01.782489",
     "exception": false,
     "start_time": "2025-06-23T06:56:01.755686",
     "status": "completed"
    },
    "tags": []
   },
   "outputs": [],
   "source": [
    "# Rows with Sleep data\n",
    "merged_data['has_sleep_data'] = merged_data['SleepDay'].notna().astype(int)\n",
    "\n",
    "# Pivot Table\n",
    "pivot = (merged_data.pivot_table(index='has_sleep_data',\n",
    "                                 values=['Calories', 'TotalSteps'],\n",
    "                                 aggfunc='mean').rename(index={0: 'no_sleep_data', 1:'with_sleep_data'}))\n",
    "\n",
    "pivot"
   ]
  },
  {
   "cell_type": "code",
   "execution_count": null,
   "id": "6c9581a8",
   "metadata": {
    "papermill": {
     "duration": 0.01988,
     "end_time": "2025-06-23T06:56:01.809636",
     "exception": false,
     "start_time": "2025-06-23T06:56:01.789756",
     "status": "completed"
    },
    "tags": []
   },
   "outputs": [],
   "source": [
    "# Paired dataset\n",
    "paired = pd.merge(daily_activity, sleep_data, left_on=['Id','ActivityDate'],\n",
    "                                               right_on=['Id','SleepDay'],\n",
    "                                               how='inner')\n",
    "paired.shape"
   ]
  },
  {
   "cell_type": "markdown",
   "id": "39f1a434",
   "metadata": {
    "papermill": {
     "duration": 0.008022,
     "end_time": "2025-06-23T06:56:01.825562",
     "exception": false,
     "start_time": "2025-06-23T06:56:01.817540",
     "status": "completed"
    },
    "tags": []
   },
   "source": [
    "#### Summary of Data"
   ]
  },
  {
   "cell_type": "code",
   "execution_count": null,
   "id": "e4215629",
   "metadata": {
    "papermill": {
     "duration": 0.026368,
     "end_time": "2025-06-23T06:56:01.859533",
     "exception": false,
     "start_time": "2025-06-23T06:56:01.833165",
     "status": "completed"
    },
    "tags": []
   },
   "outputs": [],
   "source": [
    "print(\"Summary statistics for steps, calories, and sleep:\")\n",
    "merged_data[['TotalSteps', 'Calories', 'TotalMinutesAsleep']].describe()"
   ]
  },
  {
   "cell_type": "code",
   "execution_count": null,
   "id": "09075c4a",
   "metadata": {
    "papermill": {
     "duration": 0.019302,
     "end_time": "2025-06-23T06:56:01.886459",
     "exception": false,
     "start_time": "2025-06-23T06:56:01.867157",
     "status": "completed"
    },
    "tags": []
   },
   "outputs": [],
   "source": [
    "print(\"\\nCorrelation between TotalSteps and Calories:\")\n",
    "merged_data[['TotalSteps', 'Calories']].corr()"
   ]
  },
  {
   "cell_type": "code",
   "execution_count": null,
   "id": "749a503c",
   "metadata": {
    "papermill": {
     "duration": 0.023845,
     "end_time": "2025-06-23T06:56:01.918924",
     "exception": false,
     "start_time": "2025-06-23T06:56:01.895079",
     "status": "completed"
    },
    "tags": []
   },
   "outputs": [],
   "source": [
    "# Activity Level based on steps\n",
    "merged_data['ActivityLevel'] = pd.cut(merged_data['TotalSteps'],bins=[0, 5000, 10000, float('inf')],\n",
    "                                     labels=['Low','Medium','High'])\n",
    "\n",
    "#View by activity group\n",
    "merged_data.groupby('ActivityLevel')[['TotalSteps', 'Calories', 'TotalMinutesAsleep']].mean()"
   ]
  },
  {
   "cell_type": "code",
   "execution_count": null,
   "id": "cb8a352c",
   "metadata": {
    "papermill": {
     "duration": 0.026628,
     "end_time": "2025-06-23T06:56:01.954033",
     "exception": false,
     "start_time": "2025-06-23T06:56:01.927405",
     "status": "completed"
    },
    "tags": []
   },
   "outputs": [],
   "source": [
    "# Activity Level without sleep data\n",
    "merged_data.groupby(['ActivityLevel', 'has_sleep_data'])[['Calories', 'TotalMinutesAsleep']].mean()"
   ]
  },
  {
   "cell_type": "markdown",
   "id": "98873e6d",
   "metadata": {
    "papermill": {
     "duration": 0.008252,
     "end_time": "2025-06-23T06:56:01.970971",
     "exception": false,
     "start_time": "2025-06-23T06:56:01.962719",
     "status": "completed"
    },
    "tags": []
   },
   "source": [
    "Replace NaNs with 0 in sleep columns"
   ]
  },
  {
   "cell_type": "code",
   "execution_count": null,
   "id": "e97b5040",
   "metadata": {
    "papermill": {
     "duration": 0.020382,
     "end_time": "2025-06-23T06:56:01.999980",
     "exception": false,
     "start_time": "2025-06-23T06:56:01.979598",
     "status": "completed"
    },
    "tags": []
   },
   "outputs": [],
   "source": [
    "# Define the sleep columns to fill\n",
    "sleep_cols = ['TotalSleepRecords', 'TotalMinutesAsleep', 'TotalTimeInBed']\n",
    "\n",
    "# Replace NaN with 0 in those columns\n",
    "merged_data[sleep_cols] = merged_data[sleep_cols].fillna(0)\n",
    "\n",
    "# Check\n",
    "merged_data[sleep_cols].isna().sum()  # should all be 0 now"
   ]
  },
  {
   "cell_type": "markdown",
   "id": "3f0a1097",
   "metadata": {
    "papermill": {
     "duration": 0.009341,
     "end_time": "2025-06-23T06:56:02.018447",
     "exception": false,
     "start_time": "2025-06-23T06:56:02.009106",
     "status": "completed"
    },
    "tags": []
   },
   "source": [
    "Sleep duration on weekends?"
   ]
  },
  {
   "cell_type": "code",
   "execution_count": null,
   "id": "e0d76b23",
   "metadata": {
    "papermill": {
     "duration": 0.02331,
     "end_time": "2025-06-23T06:56:02.050370",
     "exception": false,
     "start_time": "2025-06-23T06:56:02.027060",
     "status": "completed"
    },
    "tags": []
   },
   "outputs": [],
   "source": [
    "sleep_data = merged_data[merged_data['TotalMinutesAsleep'] > 0].copy()\n",
    "\n",
    "# Weekday column\n",
    "sleep_data['DayOfWeek'] = sleep_data['ActivityDate'].dt.day_name()\n",
    "\n",
    "# Average minutes asleep per day\n",
    "avg_sleep_by_day = (sleep_data.groupby('DayOfWeek')['TotalMinutesAsleep'].mean()\n",
    "    .reindex(['Monday', 'Tuesday', 'Wednesday', 'Thursday', 'Friday', 'Saturday', 'Sunday']))\n",
    "\n",
    "# Show in hours\n",
    "avg_sleep_by_day / 60"
   ]
  },
  {
   "cell_type": "markdown",
   "id": "e04ad37c",
   "metadata": {
    "papermill": {
     "duration": 0.008312,
     "end_time": "2025-06-23T06:56:02.067715",
     "exception": false,
     "start_time": "2025-06-23T06:56:02.059403",
     "status": "completed"
    },
    "tags": []
   },
   "source": [
    "# Visualization"
   ]
  },
  {
   "cell_type": "code",
   "execution_count": null,
   "id": "5a3c318d",
   "metadata": {
    "papermill": {
     "duration": 0.304172,
     "end_time": "2025-06-23T06:56:02.380280",
     "exception": false,
     "start_time": "2025-06-23T06:56:02.076108",
     "status": "completed"
    },
    "tags": []
   },
   "outputs": [],
   "source": [
    "# Bar Chart of average steps by day\n",
    "merged_data['DayOfWeek'] = merged_data['ActivityDate'].dt.day_name()\n",
    "avg_steps_by_day = merged_data.groupby('DayOfWeek')['TotalSteps'].mean().reindex(['Monday', 'Tuesday', 'Wednesday', 'Thursday', 'Friday', 'Saturday', 'Sunday'])\n",
    "plt.figure(figsize=(10, 6))\n",
    "sns.barplot(x=avg_steps_by_day.index, y=avg_steps_by_day.values)\n",
    "plt.title('Average Steps by Day of Week')\n",
    "plt.xlabel('Day of Week')\n",
    "plt.ylabel('Average Steps')\n",
    "plt.xticks(rotation=45)\n",
    "plt.show()"
   ]
  },
  {
   "cell_type": "code",
   "execution_count": null,
   "id": "c7b6ad14",
   "metadata": {
    "papermill": {
     "duration": 0.224956,
     "end_time": "2025-06-23T06:56:02.615243",
     "exception": false,
     "start_time": "2025-06-23T06:56:02.390287",
     "status": "completed"
    },
    "tags": []
   },
   "outputs": [],
   "source": [
    "# Scatter plot: Steps vs. Calories\n",
    "plt.figure(figsize=(10, 6))\n",
    "sns.scatterplot(x='TotalSteps', y='Calories', data=merged_data)\n",
    "plt.title('Steps vs. Calories Burned')\n",
    "plt.xlabel('Total Steps')\n",
    "plt.ylabel('Calories')\n",
    "plt.show()"
   ]
  },
  {
   "cell_type": "code",
   "execution_count": null,
   "id": "857b04f6",
   "metadata": {
    "papermill": {
     "duration": 0.448849,
     "end_time": "2025-06-23T06:56:03.075717",
     "exception": false,
     "start_time": "2025-06-23T06:56:02.626868",
     "status": "completed"
    },
    "tags": []
   },
   "outputs": [],
   "source": [
    "# 3. Missing-value heatmap\n",
    "plt.figure(figsize=(10, 4))\n",
    "sns.heatmap(merged_data.isnull(), cbar=False)\n",
    "plt.title(\"Missing-value pattern in merged_data\")\n",
    "plt.show()"
   ]
  },
  {
   "cell_type": "code",
   "execution_count": null,
   "id": "d2de9e41",
   "metadata": {
    "papermill": {
     "duration": 0.377792,
     "end_time": "2025-06-23T06:56:03.466813",
     "exception": false,
     "start_time": "2025-06-23T06:56:03.089021",
     "status": "completed"
    },
    "tags": []
   },
   "outputs": [],
   "source": [
    "# Calories across groups\n",
    "sns.set(style=\"whitegrid\")\n",
    "\n",
    "# Plot\n",
    "plt.figure(figsize=(8, 5))\n",
    "sns.barplot(\n",
    "    data=merged_data,\n",
    "    x='ActivityLevel',\n",
    "    y='Calories',\n",
    "    hue='has_sleep_data',\n",
    "    palette='Set2'\n",
    ")\n",
    "\n",
    "# Labels and title\n",
    "plt.title(\"Average Calories by Activity Level and Sleep Data Presence\")\n",
    "plt.xlabel(\"Activity Level\")\n",
    "plt.ylabel(\"Average Calories\")\n",
    "plt.legend(title=\"Sleep Data Recorded\", labels=[\"No\", \"Yes\"])\n",
    "plt.tight_layout()\n",
    "plt.show()"
   ]
  },
  {
   "cell_type": "markdown",
   "id": "fdbc212c",
   "metadata": {
    "papermill": {
     "duration": 0.012879,
     "end_time": "2025-06-23T06:56:03.493582",
     "exception": false,
     "start_time": "2025-06-23T06:56:03.480703",
     "status": "completed"
    },
    "tags": []
   },
   "source": [
    "Visualize the full distribution of sleep minutes including zeros"
   ]
  },
  {
   "cell_type": "code",
   "execution_count": null,
   "id": "bba3f9aa",
   "metadata": {
    "papermill": {
     "duration": 0.326614,
     "end_time": "2025-06-23T06:56:03.833398",
     "exception": false,
     "start_time": "2025-06-23T06:56:03.506784",
     "status": "completed"
    },
    "tags": []
   },
   "outputs": [],
   "source": [
    "# Bar chart with zeros, shows the amount of missing data\n",
    "plt.figure(figsize=(8,4))\n",
    "merged_data['TotalMinutesAsleep'].hist(bins=30)\n",
    "plt.title(\"Distribution of Total Minutes Asleep (zeros included)\")\n",
    "plt.xlabel(\"Minutes asleep\")\n",
    "plt.ylabel(\"Count of days\")\n",
    "plt.show()"
   ]
  },
  {
   "cell_type": "code",
   "execution_count": null,
   "id": "e729e991",
   "metadata": {
    "papermill": {
     "duration": 0.236997,
     "end_time": "2025-06-23T06:56:04.085255",
     "exception": false,
     "start_time": "2025-06-23T06:56:03.848258",
     "status": "completed"
    },
    "tags": []
   },
   "outputs": [],
   "source": [
    "# Sleep by days of the week\n",
    "plt.figure(figsize=(8,4))\n",
    "plt.bar(avg_sleep_by_day.index, avg_sleep_by_day.values)\n",
    "plt.ylabel(\"Average Sleep Duration (hours)\")\n",
    "plt.title(\"Average Sleep Duration by Day of Week (device-recorded nights)\")\n",
    "plt.xticks(rotation=45)\n",
    "plt.tight_layout()\n",
    "plt.show()"
   ]
  },
  {
   "cell_type": "markdown",
   "id": "a88a82a6",
   "metadata": {
    "papermill": {
     "duration": 0.014217,
     "end_time": "2025-06-23T06:56:04.114936",
     "exception": false,
     "start_time": "2025-06-23T06:56:04.100719",
     "status": "completed"
    },
    "tags": []
   },
   "source": [
    "## Insights\n",
    "\n",
    "#### Key Findings\n",
    "\n",
    "\n",
    "* Users are most active on Tuesdays and Saturdays, averaging 8,000 steps\n",
    "* There’s a moderate to strong correlation (0.59) between steps and calories burned\n",
    "* Sleep duration averages 6 hours, with more sleep on weekends\n"
   ]
  },
  {
   "cell_type": "markdown",
   "id": "c064ae8d",
   "metadata": {
    "papermill": {
     "duration": 0.014114,
     "end_time": "2025-06-23T06:56:04.143511",
     "exception": false,
     "start_time": "2025-06-23T06:56:04.129397",
     "status": "completed"
    },
    "tags": []
   },
   "source": [
    "## Application to Bellabeat Leaf Tracker\n",
    "\n",
    "* Promote the activity tracking for weekday fitness challenges\n",
    "* Highlight sleep tracking to encourage better weekday sleep habits"
   ]
  },
  {
   "cell_type": "markdown",
   "id": "8a84c664",
   "metadata": {
    "papermill": {
     "duration": 0.013886,
     "end_time": "2025-06-23T06:56:04.171656",
     "exception": false,
     "start_time": "2025-06-23T06:56:04.157770",
     "status": "completed"
    },
    "tags": []
   },
   "source": [
    "## Marketing Recommendations\n",
    "1. Targeted Weekday Campaigns: Launch ads promoting the Leaf tracker for weekday fitness, as users average 8,000 steps on Tuesdays/Saturday\n",
    "2. Sleep Improvement Features: Add sleep coaching tips to the Bellabeat app, addressing shorter weekday sleep (6.5 hours vs. 7 hours weekdays)\n",
    "3. Partner with Fitness Apps: Collaborate with apps to integrate Leaf data, leveraging high activity correlations with calories burned."
   ]
  },
  {
   "cell_type": "markdown",
   "id": "1ec34d2c",
   "metadata": {
    "papermill": {
     "duration": 0.013946,
     "end_time": "2025-06-23T06:56:04.199708",
     "exception": false,
     "start_time": "2025-06-23T06:56:04.185762",
     "status": "completed"
    },
    "tags": []
   },
   "source": [
    "## Conclusion\n",
    "This analysis of FitBit data revealed key trends in user activity and sleep, applied to enhance Bellabeat’s Leaf tracker marketing. Weekday activity peaks and sleep patterns informed targeted campaigns and feature enhancements."
   ]
  }
 ],
 "metadata": {
  "kaggle": {
   "accelerator": "none",
   "dataSources": [
    {
     "datasetId": 1041311,
     "sourceId": 7746251,
     "sourceType": "datasetVersion"
    }
   ],
   "dockerImageVersionId": 31040,
   "isGpuEnabled": false,
   "isInternetEnabled": true,
   "language": "python",
   "sourceType": "notebook"
  },
  "kernelspec": {
   "display_name": "Python 3 (ipykernel)",
   "language": "python",
   "name": "python3"
  },
  "language_info": {
   "codemirror_mode": {
    "name": "ipython",
    "version": 3
   },
   "file_extension": ".py",
   "mimetype": "text/x-python",
   "name": "python",
   "nbconvert_exporter": "python",
   "pygments_lexer": "ipython3",
   "version": "3.12.5"
  },
  "papermill": {
   "default_parameters": {},
   "duration": 12.016059,
   "end_time": "2025-06-23T06:56:04.834349",
   "environment_variables": {},
   "exception": null,
   "input_path": "__notebook__.ipynb",
   "output_path": "__notebook__.ipynb",
   "parameters": {},
   "start_time": "2025-06-23T06:55:52.818290",
   "version": "2.6.0"
  }
 },
 "nbformat": 4,
 "nbformat_minor": 5
}
